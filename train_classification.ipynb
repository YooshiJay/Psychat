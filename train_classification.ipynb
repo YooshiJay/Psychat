{
 "cells": [
  {
   "cell_type": "code",
   "execution_count": 1,
   "id": "ad3c3751-9f5f-4cef-960e-37e61884280b",
   "metadata": {},
   "outputs": [
    {
     "data": {
      "application/vnd.jupyter.widget-view+json": {
       "model_id": "0ebc98e2caf84980ba310cce77e102ca",
       "version_major": 2,
       "version_minor": 0
      },
      "text/plain": [
       "Loading checkpoint shards:   0%|          | 0/2 [00:00<?, ?it/s]"
      ]
     },
     "metadata": {},
     "output_type": "display_data"
    },
    {
     "name": "stderr",
     "output_type": "stream",
     "text": [
      "Some weights of LlamaForSequenceClassification were not initialized from the model checkpoint at meta-llama/Llama-3.2-3B-Instruct and are newly initialized: ['score.weight']\n",
      "You should probably TRAIN this model on a down-stream task to be able to use it for predictions and inference.\n"
     ]
    }
   ],
   "source": [
    "import os\n",
    "import numpy as np\n",
    "import torch\n",
    "import torch.nn as nn\n",
    "from datasets import load_dataset\n",
    "from transformers import AutoTokenizer, AutoModelForSequenceClassification, AutoModelForCausalLM\n",
    "from transformers import Trainer, TrainingArguments, DataCollatorWithPadding\n",
    "from peft import LoraConfig, get_peft_model\n",
    "\n",
    "\n",
    "def load_model_tokenizer():\n",
    "    model_name = \"meta-llama/Llama-3.2-3B-Instruct\"\n",
    "\n",
    "    tokenizer = AutoTokenizer.from_pretrained(\n",
    "        model_name\n",
    "    )\n",
    "    tokenizer.pad_token_id = 128004\n",
    "\n",
    "    model = AutoModelForSequenceClassification.from_pretrained(\n",
    "        model_name,\n",
    "        torch_dtype=torch.bfloat16,\n",
    "        device_map='auto'\n",
    "    )\n",
    "    model.config.pad_token_id = tokenizer.pad_token_id\n",
    "\n",
    "    lora_config = LoraConfig(\n",
    "        r=8,\n",
    "        lora_alpha=16,\n",
    "        target_modules=[\"q_proj\", \"v_proj\"],\n",
    "        lora_dropout=0.1,\n",
    "    )\n",
    "    lora_model = get_peft_model(model, lora_config)\n",
    "    lora_model.score.weight.requires_grad = True\n",
    "\n",
    "    return lora_model, tokenizer\n",
    "\n",
    "\n",
    "model, tokenizer = load_model_tokenizer()"
   ]
  },
  {
   "cell_type": "code",
   "execution_count": 2,
   "id": "da8a26d2-a12d-4bed-ae0b-6e9ab5772aab",
   "metadata": {},
   "outputs": [
    {
     "data": {
      "application/vnd.jupyter.widget-view+json": {
       "model_id": "9d3cf4c5d6a84dcda854485fe5c5133e",
       "version_major": 2,
       "version_minor": 0
      },
      "text/plain": [
       "Map:   0%|          | 0/52 [00:00<?, ? examples/s]"
      ]
     },
     "metadata": {},
     "output_type": "display_data"
    },
    {
     "data": {
      "application/vnd.jupyter.widget-view+json": {
       "model_id": "fe41cef51dfe4101ae856346943ec3a4",
       "version_major": 2,
       "version_minor": 0
      },
      "text/plain": [
       "Map:   0%|          | 0/14 [00:00<?, ? examples/s]"
      ]
     },
     "metadata": {},
     "output_type": "display_data"
    }
   ],
   "source": [
    "datasets = load_dataset(\"json\", data_files=\"./data/classify_train.json\", split=\"train\")\n",
    "datasets = datasets.train_test_split(test_size=0.2)\n",
    "\n",
    "\n",
    "def tokenize_function(sample):\n",
    "    input_format = ('<|start_header_id|>system<|end_header_id|>\\n\\n{system}<|eot_id|>'\n",
    "        '<|start_header_id|>user<|end_header_id|>\\n\\n{input}<|eot_id|>' \n",
    "        '<|start_header_id|>assistant<|end_header_id|>\\n\\n')\n",
    "    sys_txt = \"判断以下给出的消息，是否出自真人聊天？\"\n",
    "    return tokenizer(input_format.format(system=sys_txt, input=sample['content']), add_special_tokens=False)\n",
    "\n",
    "\n",
    "datasets = datasets.map(tokenize_function)\n",
    "data_collator = DataCollatorWithPadding(tokenizer=tokenizer)"
   ]
  },
  {
   "cell_type": "code",
   "execution_count": 3,
   "id": "060ed039-6ffd-4eac-a5f0-78e325dbad87",
   "metadata": {},
   "outputs": [],
   "source": [
    "training_args = TrainingArguments(\n",
    "    per_device_train_batch_size=4,\n",
    "    gradient_accumulation_steps=4,\n",
    "    warmup_ratio=0.1,\n",
    "    learning_rate=2e-5,\n",
    "    logging_steps=10,\n",
    "    eval_strategy=\"steps\",\n",
    "    num_train_epochs=30,\n",
    "    output_dir='./outputs/temp',\n",
    "    weight_decay=0.01,\n",
    "    label_names=[\"labels\"],\n",
    "    # load_best_model_at_end=True,\n",
    "    # save_total_limit=5\n",
    "    # metric_for_best_model=\"acc\"\n",
    ")\n",
    "\n",
    "\n",
    "def compute_metrics(pred):\n",
    "    labels = pred.label_ids\n",
    "    preds = pred.predictions.argmax(-1)\n",
    "    acc = (preds == labels).astype(np.float32).mean().item()\n",
    "    return {\"acc\": acc}\n",
    "\n",
    "\n",
    "trainer = Trainer(\n",
    "    model,\n",
    "    training_args,\n",
    "    train_dataset=datasets[\"train\"],\n",
    "    eval_dataset=datasets[\"test\"],\n",
    "    data_collator=data_collator,\n",
    "    compute_metrics=compute_metrics\n",
    ")"
   ]
  },
  {
   "cell_type": "code",
   "execution_count": 4,
   "id": "1c8fcd29-4334-4857-8301-a383edde2f91",
   "metadata": {},
   "outputs": [
    {
     "data": {
      "text/html": [
       "\n",
       "    <div>\n",
       "      \n",
       "      <progress value='90' max='90' style='width:300px; height:20px; vertical-align: middle;'></progress>\n",
       "      [90/90 00:28, Epoch 22/30]\n",
       "    </div>\n",
       "    <table border=\"1\" class=\"dataframe\">\n",
       "  <thead>\n",
       " <tr style=\"text-align: left;\">\n",
       "      <th>Step</th>\n",
       "      <th>Training Loss</th>\n",
       "      <th>Validation Loss</th>\n",
       "      <th>Acc</th>\n",
       "    </tr>\n",
       "  </thead>\n",
       "  <tbody>\n",
       "    <tr>\n",
       "      <td>10</td>\n",
       "      <td>0.930200</td>\n",
       "      <td>1.411830</td>\n",
       "      <td>0.285714</td>\n",
       "    </tr>\n",
       "    <tr>\n",
       "      <td>20</td>\n",
       "      <td>0.799100</td>\n",
       "      <td>1.275670</td>\n",
       "      <td>0.214286</td>\n",
       "    </tr>\n",
       "    <tr>\n",
       "      <td>30</td>\n",
       "      <td>0.737500</td>\n",
       "      <td>1.120536</td>\n",
       "      <td>0.214286</td>\n",
       "    </tr>\n",
       "    <tr>\n",
       "      <td>40</td>\n",
       "      <td>0.562100</td>\n",
       "      <td>0.948661</td>\n",
       "      <td>0.500000</td>\n",
       "    </tr>\n",
       "    <tr>\n",
       "      <td>50</td>\n",
       "      <td>0.510200</td>\n",
       "      <td>0.797433</td>\n",
       "      <td>0.571429</td>\n",
       "    </tr>\n",
       "    <tr>\n",
       "      <td>60</td>\n",
       "      <td>0.375800</td>\n",
       "      <td>0.656808</td>\n",
       "      <td>0.642857</td>\n",
       "    </tr>\n",
       "    <tr>\n",
       "      <td>70</td>\n",
       "      <td>0.353400</td>\n",
       "      <td>0.585938</td>\n",
       "      <td>0.714286</td>\n",
       "    </tr>\n",
       "    <tr>\n",
       "      <td>80</td>\n",
       "      <td>0.285100</td>\n",
       "      <td>0.547433</td>\n",
       "      <td>0.714286</td>\n",
       "    </tr>\n",
       "    <tr>\n",
       "      <td>90</td>\n",
       "      <td>0.296500</td>\n",
       "      <td>0.527902</td>\n",
       "      <td>0.714286</td>\n",
       "    </tr>\n",
       "  </tbody>\n",
       "</table><p>"
      ],
      "text/plain": [
       "<IPython.core.display.HTML object>"
      ]
     },
     "metadata": {},
     "output_type": "display_data"
    },
    {
     "data": {
      "text/plain": [
       "TrainOutput(global_step=90, training_loss=0.5388671875, metrics={'train_runtime': 28.8148, 'train_samples_per_second': 54.139, 'train_steps_per_second': 3.123, 'total_flos': 1176782953242624.0, 'train_loss': 0.5388671875, 'epoch': 22.615384615384617})"
      ]
     },
     "execution_count": 4,
     "metadata": {},
     "output_type": "execute_result"
    }
   ],
   "source": [
    "trainer.train()"
   ]
  },
  {
   "cell_type": "code",
   "execution_count": 5,
   "id": "2fa75789-4880-4615-a486-4d0c8c7b8826",
   "metadata": {},
   "outputs": [],
   "source": [
    "save_or_not = True"
   ]
  },
  {
   "cell_type": "code",
   "execution_count": 6,
   "id": "796c7c5c-c4c3-4b15-969d-991ade8d8a73",
   "metadata": {},
   "outputs": [],
   "source": [
    "if save_or_not == True:\n",
    "    trainer.save_model(\"./outputs/checkpoint\")\n",
    "    merged_model = model.merge_and_unload()\n",
    "    merged_model.save_pretrained(\"./outputs/merge_model\")\n",
    "    tokenizer.save_pretrained(\"./outputs/merge_model\")"
   ]
  },
  {
   "cell_type": "code",
   "execution_count": null,
   "id": "73e5b4e6-f522-4074-83f2-9655ffb33acb",
   "metadata": {},
   "outputs": [],
   "source": []
  }
 ],
 "metadata": {
  "kernelspec": {
   "display_name": "Python 3 (ipykernel)",
   "language": "python",
   "name": "python3"
  },
  "language_info": {
   "codemirror_mode": {
    "name": "ipython",
    "version": 3
   },
   "file_extension": ".py",
   "mimetype": "text/x-python",
   "name": "python",
   "nbconvert_exporter": "python",
   "pygments_lexer": "ipython3",
   "version": "3.10.16"
  }
 },
 "nbformat": 4,
 "nbformat_minor": 5
}
