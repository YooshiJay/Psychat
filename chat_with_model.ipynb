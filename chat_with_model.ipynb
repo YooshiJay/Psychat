{
 "cells": [
  {
   "cell_type": "code",
   "execution_count": 1,
   "metadata": {},
   "outputs": [
    {
     "name": "stderr",
     "output_type": "stream",
     "text": [
      "/Users/jiangyushi/miniconda3/envs/llama_factory-env/lib/python3.10/site-packages/tqdm/auto.py:21: TqdmWarning: IProgress not found. Please update jupyter and ipywidgets. See https://ipywidgets.readthedocs.io/en/stable/user_install.html\n",
      "  from .autonotebook import tqdm as notebook_tqdm\n",
      "Loading checkpoint shards: 100%|██████████| 2/2 [00:06<00:00,  3.07s/it]\n",
      "Some parameters are on the meta device because they were offloaded to the disk.\n"
     ]
    }
   ],
   "source": [
    "import os\n",
    "import torch\n",
    "from transformers import AutoTokenizer, AutoConfig, AutoModelForCausalLM, BitsAndBytesConfig\n",
    "from transformers import Trainer, TrainingArguments \n",
    "\n",
    "model_path = \"/Users/jiangyushi/Work/llm_model\"\n",
    "model_name = \"meta-llama/Llama-3.2-3B-Instruct\"\n",
    "llama3_model = os.path.join(model_path, model_name)\n",
    "\n",
    "\n",
    "# 加载模型\n",
    "def load_model_tokenizer():\n",
    "    tokenizer = AutoTokenizer.from_pretrained(\n",
    "        llama3_model\n",
    "    )\n",
    "    tokenizer.pad_token_id = tokenizer.eos_token_id\n",
    "\n",
    "    quantization_config = BitsAndBytesConfig(\n",
    "        load_in_4bit=True,\n",
    "        bnb_4bit_compute_dtype=torch.bfloat16,\n",
    "        bnb_4bit_use_double_quant=True,\n",
    "        bnb_4bit_quant_type=\"nf4\"\n",
    "    )\n",
    "\n",
    "    model = AutoModelForCausalLM.from_pretrained(\n",
    "        llama3_model,\n",
    "        device_map='auto',\n",
    "        # quantization_config=quantization_config,\n",
    "        torch_dtype=torch.bfloat16\n",
    "    )\n",
    "\n",
    "    return model, tokenizer\n",
    "\n",
    "model, tokenizer = load_model_tokenizer()"
   ]
  },
  {
   "cell_type": "code",
   "execution_count": 2,
   "metadata": {},
   "outputs": [],
   "source": [
    "# 定义聊天模板\n",
    "llama3_chat_template = dict(\n",
    "    SYSTEM=('<|start_header_id|>system<|end_header_id|>\\n\\n'\n",
    "            '{system}<|eot_id|>'),\n",
    "    INSTRUCTION=(\n",
    "        '<|start_header_id|>user<|end_header_id|>\\n\\n{input}<|eot_id|>'\n",
    "        '<|start_header_id|>assistant<|end_header_id|>\\n\\n'),\n",
    "    BEGIN_WORDS='<|begin_of_text|>',\n",
    "    STOP_WORDS='<|eot_id|>'\n",
    ")\n",
    "\n",
    "# # 示例对话\n",
    "# conversation = [\n",
    "#     {\"role\": \"system\", \"content\": \"您是一个有用的助手。\"},\n",
    "#     {\"role\": \"user\", \"content\": \"今天天气怎么样？\"},\n",
    "# ]\n",
    "\n",
    "# 应用聊天模板\n",
    "def apply_chat_template(conversation, template):\n",
    "    # formatted_conversation = template['BEGIN_WORDS']\n",
    "    formatted_conversation = ''\n",
    "    for message in conversation:\n",
    "        if message['role'] == 'system':\n",
    "            formatted_conversation += template['SYSTEM'].format(system=message['content'])\n",
    "        elif message['role'] == 'user':\n",
    "            formatted_conversation += template['INSTRUCTION'].format(input=message['content'])\n",
    "        elif message['role'] == 'assistant':\n",
    "            formatted_conversation += template['INSTRUCTION'].format(input=message['content'])\n",
    "    return formatted_conversation\n"
   ]
  },
  {
   "cell_type": "code",
   "execution_count": 3,
   "metadata": {},
   "outputs": [],
   "source": [
    "# 提取模型回答\n",
    "def clear_output(complete_txt, original_txt):\n",
    "    answer = complete_txt[len(llama3_chat_template['BEGIN_WORDS'] + original_txt) : -len(llama3_chat_template['STOP_WORDS'])]    \n",
    "    return answer\n",
    "\n",
    "\n",
    "# 生成回答\n",
    "def generate_answer(model, tokenizer, usr_txt):\n",
    "    sys_txt = \"You are a helpful assistant\"\n",
    "    conversation = [\n",
    "        {\"role\": \"system\", \"content\": sys_txt},\n",
    "        {\"role\": \"user\", \"content\": usr_txt},\n",
    "    ]\n",
    "\n",
    "    # # tokenizer 自带的 apply_chat_template （注意编码后会再次添加BEGIN_TOKEN, 因此tokenize=True）\n",
    "    # chat_template = [{'content': sys_txt, 'role': 'system'},{'content': usr_txt, 'role': 'user'}]\n",
    "    # input_txt = tokenizer.apply_chat_template(chat_template, tokenize=False, add_generation_prompt=True)\n",
    "\n",
    "    # 自定义\n",
    "    input_txt = apply_chat_template(conversation, llama3_chat_template)\n",
    "    input_ids = tokenizer(input_txt, return_tensors=\"pt\").to(model.device)\n",
    "\n",
    "    outputs_id = model.generate(**input_ids, max_new_tokens = 512, eos_token_id = tokenizer.eos_token_id, pad_token_id=tokenizer.eos_token_id)\n",
    "    outputs = tokenizer.batch_decode(outputs_id, skip_special_tokens=False)\n",
    "    answer = clear_output(outputs[0], input_txt)\n",
    "\n",
    "    return answer"
   ]
  },
  {
   "cell_type": "code",
   "execution_count": null,
   "metadata": {},
   "outputs": [],
   "source": []
  }
 ],
 "metadata": {
  "kernelspec": {
   "display_name": "llama_factory-env",
   "language": "python",
   "name": "python3"
  },
  "language_info": {
   "codemirror_mode": {
    "name": "ipython",
    "version": 3
   },
   "file_extension": ".py",
   "mimetype": "text/x-python",
   "name": "python",
   "nbconvert_exporter": "python",
   "pygments_lexer": "ipython3",
   "version": "3.10.16"
  }
 },
 "nbformat": 4,
 "nbformat_minor": 2
}
